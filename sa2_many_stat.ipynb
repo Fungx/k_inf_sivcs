{
 "cells": [
  {
   "cell_type": "code",
   "execution_count": null,
   "metadata": {
    "collapsed": true,
    "pycharm": {
     "name": "#%%\n",
     "is_executing": true
    }
   },
   "outputs": [
    {
     "name": "stdout",
     "output_type": "stream",
     "text": [
      "k=3,best_time=22,best_res={'success': True, 'contrast': 0.12313908425872339, 'nitr': 2400000, 'variables': array([[0.61305371, 0.        , 0.        , 0.38694629],\n",
      "       [0.        , 0.23452053, 0.76547947, 0.        ],\n",
      "       [0.2479477 , 0.        , 0.7092898 , 1.        ]])}\n",
      "safety=[0.0009479706244233765, 0.015225890284539089]\n",
      "k=4,best_time=18,best_res={'success': True, 'contrast': 0.13192782363224553, 'nitr': 3200000, 'variables': array([[0.        , 0.57210139, 0.        , 0.42789861, 0.        ],\n",
      "       [0.16345042, 0.        , 0.06843306, 0.        , 0.76811652],\n",
      "       [0.        , 0.37930191, 0.59080347, 1.        , 0.79019329]])}\n",
      "safety=[0.003921249664702486, 0.00019363331561745746, 0.04369269279627253]\n"
     ]
    }
   ],
   "source": [
    "import numpy as np\n",
    "import pandas\n",
    "\n",
    "from PIL import Image\n",
    "from matplotlib import pyplot as plt\n",
    "from optimize import OptimizedResult, optimize_sa2, safety_penalty_list\n",
    "import pandas as pd\n",
    "import os\n",
    "\n",
    "TIMES = 30\n",
    "markov = 50000\n",
    "ws = 50\n",
    "dir = f\"sa2_many_mk={markov}_ws={ws}\"\n",
    "# os.mkdir(dir)\n",
    "\n",
    "for k in range(3, 8):\n",
    "    best_contrast = 0\n",
    "    best_time = -1\n",
    "    path = f\"{dir}/k={k}\"\n",
    "    os.mkdir(path)\n",
    "    for time in range(TIMES):\n",
    "        res = optimize_sa2(k, markov=markov * k, ws=ws, initial_temp=0.1, terminated_temp=0.1 / 2000)\n",
    "        if res.contrast > best_contrast:\n",
    "            best_contrast = res.contrast\n",
    "            best_res = res\n",
    "            best_time = time\n",
    "        pandas.DataFrame(res.variables).to_csv(f\"{path}/{time}-vars.csv\")\n",
    "        sf = safety_penalty_list(res.variables)\n",
    "        pandas.DataFrame(sf).to_csv(f\"{path}/{time}-safety.csv\")\n",
    "    print(f\"k={k},best_time={best_time},best_res={best_res}\\nsafety={sf}\")\n"
   ]
  },
  {
   "cell_type": "code",
   "execution_count": null,
   "outputs": [],
   "source": [],
   "metadata": {
    "collapsed": false,
    "pycharm": {
     "name": "#%%\n",
     "is_executing": true
    }
   }
  }
 ],
 "metadata": {
  "kernelspec": {
   "display_name": "Python 3",
   "language": "python",
   "name": "python3"
  },
  "language_info": {
   "codemirror_mode": {
    "name": "ipython",
    "version": 2
   },
   "file_extension": ".py",
   "mimetype": "text/x-python",
   "name": "python",
   "nbconvert_exporter": "python",
   "pygments_lexer": "ipython2",
   "version": "2.7.6"
  }
 },
 "nbformat": 4,
 "nbformat_minor": 0
}