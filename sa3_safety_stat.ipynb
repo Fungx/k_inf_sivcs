{
 "cells": [
  {
   "cell_type": "code",
   "execution_count": 35,
   "metadata": {
    "collapsed": true,
    "pycharm": {
     "name": "#%%\n"
    }
   },
   "outputs": [
    {
     "data": {
      "text/plain": "<matplotlib.image.AxesImage at 0x2e7119a37c0>"
     },
     "execution_count": 35,
     "metadata": {},
     "output_type": "execute_result"
    },
    {
     "data": {
      "text/plain": "<Figure size 432x288 with 1 Axes>",
      "image/png": "[encoded data removed]"
     },
     "metadata": {
      "needs_background": "light"
     },
     "output_type": "display_data"
    }
   ],
   "source": [
    "import numpy as np\n",
    "\n",
    "from PIL import Image\n",
    "from matplotlib import pyplot as plt\n",
    "import optimize\n",
    "import pandas as pd\n",
    "\n",
    "secret = np.logical_not(np.array(Image.open(\"../A_256.png\").convert(\"1\"), dtype=bool))\n",
    "plt.imshow(secret, cmap=\"gray_r\")"
   ]
  },
  {
   "cell_type": "markdown",
   "source": [
    "# avg"
   ],
   "metadata": {
    "collapsed": false,
    "pycharm": {
     "name": "#%% md\n"
    }
   }
  },
  {
   "cell_type": "code",
   "execution_count": 36,
   "outputs": [
    {
     "name": "stdout",
     "output_type": "stream",
     "text": [
      "k=2 Done.\n",
      "k=3 Done.\n",
      "k=4 Done.\n",
      "k=5 Done.\n",
      "k=6 Done.\n",
      "k=7 Done.\n"
     ]
    }
   ],
   "source": [
    "K = 7\n",
    "# TIMES = 5\n",
    "ks = [i for i in range(2, K + 1)]\n",
    "result = []\n",
    "ws=35\n",
    "markov=2000\n",
    "for i in ks:\n",
    "    result.append(\n",
    "        optimize.optimize_sa3(i, markov=markov , initial_temp=0.1, terminated_temp=0.1 / (2000 ), ws=ws))\n",
    "    print(f\"k={i} Done.\")\n"
   ],
   "metadata": {
    "collapsed": false,
    "pycharm": {
     "name": "#%%\n"
    }
   }
  },
  {
   "cell_type": "code",
   "execution_count": 37,
   "outputs": [
    {
     "name": "stdout",
     "output_type": "stream",
     "text": [
      "[0.16384906839237978, 0.14949600917657957, 0.09587430573919292, 0.06843987334138288, 0.0853095992466148, 0.12311726315874136]\n"
     ]
    },
    {
     "data": {
      "text/plain": "<Figure size 432x288 with 1 Axes>",
      "image/png": "[encoded data removed]"
     },
     "metadata": {
      "needs_background": "light"
     },
     "output_type": "display_data"
    }
   ],
   "source": [
    "plt.xlabel(\"k\")\n",
    "plt.plot(ks, list(map(lambda x: x.contrast, result)), label=\"contrast\", color=\"green\")\n",
    "plt.legend()\n",
    "print(list(map(lambda x: x.contrast, result)))"
   ],
   "metadata": {
    "collapsed": false,
    "pycharm": {
     "name": "#%%\n"
    }
   }
  },
  {
   "cell_type": "code",
   "execution_count": 38,
   "outputs": [
    {
     "data": {
      "text/plain": "          0         1         2         3         4         5\n0  0.000096       NaN       NaN       NaN       NaN       NaN\n1  0.005205  0.072453       NaN       NaN       NaN       NaN\n2  0.001105  0.005749  0.050090       NaN       NaN       NaN\n3  0.011548  0.005074  0.011624  0.039460       NaN       NaN\n4  0.011723  0.003031  0.008121  0.031817  0.058862       NaN\n5  0.002270  0.005401  0.012859  0.040918  0.070627  0.098412",
      "text/html": "<div>\n<style scoped>\n    .dataframe tbody tr th:only-of-type {\n        vertical-align: middle;\n    }\n\n    .dataframe tbody tr th {\n        vertical-align: top;\n    }\n\n    .dataframe thead th {\n        text-align: right;\n    }\n</style>\n<table border=\"1\" class=\"dataframe\">\n  <thead>\n    <tr style=\"text-align: right;\">\n      <th></th>\n      <th>0</th>\n      <th>1</th>\n      <th>2</th>\n      <th>3</th>\n      <th>4</th>\n      <th>5</th>\n    </tr>\n  </thead>\n  <tbody>\n    <tr>\n      <th>0</th>\n      <td>0.000096</td>\n      <td>NaN</td>\n      <td>NaN</td>\n      <td>NaN</td>\n      <td>NaN</td>\n      <td>NaN</td>\n    </tr>\n    <tr>\n      <th>1</th>\n      <td>0.005205</td>\n      <td>0.072453</td>\n      <td>NaN</td>\n      <td>NaN</td>\n      <td>NaN</td>\n      <td>NaN</td>\n    </tr>\n    <tr>\n      <th>2</th>\n      <td>0.001105</td>\n      <td>0.005749</td>\n      <td>0.050090</td>\n      <td>NaN</td>\n      <td>NaN</td>\n      <td>NaN</td>\n    </tr>\n    <tr>\n      <th>3</th>\n      <td>0.011548</td>\n      <td>0.005074</td>\n      <td>0.011624</td>\n      <td>0.039460</td>\n      <td>NaN</td>\n      <td>NaN</td>\n    </tr>\n    <tr>\n      <th>4</th>\n      <td>0.011723</td>\n      <td>0.003031</td>\n      <td>0.008121</td>\n      <td>0.031817</td>\n      <td>0.058862</td>\n      <td>NaN</td>\n    </tr>\n    <tr>\n      <th>5</th>\n      <td>0.002270</td>\n      <td>0.005401</td>\n      <td>0.012859</td>\n      <td>0.040918</td>\n      <td>0.070627</td>\n      <td>0.098412</td>\n    </tr>\n  </tbody>\n</table>\n</div>"
     },
     "execution_count": 38,
     "metadata": {},
     "output_type": "execute_result"
    }
   ],
   "source": [
    "from optimize import safety_penalty_list\n",
    "\n",
    "import os\n",
    "path=f\"./sa3_safety_ws={ws}_markov={markov}\"\n",
    "if not os.path.exists(path):\n",
    "    os.mkdir(path)\n",
    "\n",
    "safety = []\n",
    "for res in result:\n",
    "    safety.append(safety_penalty_list(res.variables))\n",
    "pd.DataFrame(safety).to_csv(f\"{path}/ws.csv\")\n",
    "pd.DataFrame(safety)"
   ],
   "metadata": {
    "collapsed": false,
    "pycharm": {
     "name": "#%%\n"
    }
   }
  },
  {
   "cell_type": "code",
   "execution_count": 39,
   "outputs": [],
   "source": [
    "\n",
    "for i in range(len(result)):\n",
    "    pd.DataFrame(result[i].variables).to_csv(f\"{path}/k={i + 2}.csv\")\n"
   ],
   "metadata": {
    "collapsed": false,
    "pycharm": {
     "name": "#%%\n"
    }
   }
  }
 ],
 "metadata": {
  "kernelspec": {
   "display_name": "Python 3",
   "language": "python",
   "name": "python3"
  },
  "language_info": {
   "codemirror_mode": {
    "name": "ipython",
    "version": 2
   },
   "file_extension": ".py",
   "mimetype": "text/x-python",
   "name": "python",
   "nbconvert_exporter": "python",
   "pygments_lexer": "ipython2",
   "version": "2.7.6"
  }
 },
 "nbformat": 4,
 "nbformat_minor": 0
}