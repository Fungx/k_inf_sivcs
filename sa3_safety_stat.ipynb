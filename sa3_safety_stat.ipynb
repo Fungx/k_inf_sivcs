{
 "cells": [
  {
   "cell_type": "code",
   "execution_count": 16,
   "metadata": {
    "collapsed": true,
    "pycharm": {
     "name": "#%%\n"
    }
   },
   "outputs": [
    {
     "data": {
      "text/plain": "<matplotlib.image.AxesImage at 0x254207f49a0>"
     },
     "execution_count": 16,
     "metadata": {},
     "output_type": "execute_result"
    },
    {
     "data": {
      "text/plain": "<Figure size 432x288 with 1 Axes>",
      "image/png": "[encoded data removed]"
     },
     "metadata": {
      "needs_background": "light"
     },
     "output_type": "display_data"
    }
   ],
   "source": [
    "import numpy as np\n",
    "\n",
    "from PIL import Image\n",
    "from matplotlib import pyplot as plt\n",
    "import optimize\n",
    "import pandas as pd\n",
    "\n",
    "secret = np.logical_not(np.array(Image.open(\"../A_256.png\").convert(\"1\"), dtype=bool))\n",
    "plt.imshow(secret, cmap=\"gray_r\")"
   ]
  },
  {
   "cell_type": "markdown",
   "source": [
    "# avg"
   ],
   "metadata": {
    "collapsed": false,
    "pycharm": {
     "name": "#%% md\n"
    }
   }
  },
  {
   "cell_type": "code",
   "execution_count": 17,
   "outputs": [
    {
     "name": "stdout",
     "output_type": "stream",
     "text": [
      "k=2 Done.\n",
      "k=3 Done.\n",
      "k=4 Done.\n",
      "k=5 Done.\n",
      "k=6 Done.\n",
      "k=7 Done.\n"
     ]
    }
   ],
   "source": [
    "K = 7\n",
    "TIMES = 5\n",
    "ks = [i for i in range(2, K + 1)]\n",
    "result = []\n",
    "\n",
    "for i in ks:\n",
    "    result.append(\n",
    "        optimize.optimize_sa3(i, markov=2000 * i, initial_temp=0.1, terminated_temp=0.1 / (2000 * i), ws=50))\n",
    "    print(f\"k={i} Done.\")\n"
   ],
   "metadata": {
    "collapsed": false,
    "pycharm": {
     "name": "#%%\n"
    }
   }
  },
  {
   "cell_type": "code",
   "execution_count": 18,
   "outputs": [
    {
     "data": {
      "text/plain": "<matplotlib.legend.Legend at 0x25420856fa0>"
     },
     "execution_count": 18,
     "metadata": {},
     "output_type": "execute_result"
    },
    {
     "data": {
      "text/plain": "<Figure size 432x288 with 1 Axes>",
      "image/png": "[encoded data removed]"
     },
     "metadata": {
      "needs_background": "light"
     },
     "output_type": "display_data"
    }
   ],
   "source": [
    "plt.xlabel(\"k\")\n",
    "plt.plot(ks, list(map(lambda x: x.contrast, result)), label=\"contrast\", color=\"green\")\n",
    "plt.legend()"
   ],
   "metadata": {
    "collapsed": false,
    "pycharm": {
     "name": "#%%\n"
    }
   }
  },
  {
   "cell_type": "code",
   "execution_count": 19,
   "outputs": [
    {
     "data": {
      "text/plain": "          0         1         2         3         4       5\n0  0.000989       NaN       NaN       NaN       NaN     NaN\n1  0.000492  0.083725       NaN       NaN       NaN     NaN\n2  0.006830  0.006415  0.040246       NaN       NaN     NaN\n3  0.003155  0.000795  0.026597  0.060938       NaN     NaN\n4  0.006325  0.003799  0.002702  0.010110  0.030045     NaN\n5  0.001697  0.005914  0.004519  0.004735  0.018651  0.0347",
      "text/html": "<div>\n<style scoped>\n    .dataframe tbody tr th:only-of-type {\n        vertical-align: middle;\n    }\n\n    .dataframe tbody tr th {\n        vertical-align: top;\n    }\n\n    .dataframe thead th {\n        text-align: right;\n    }\n</style>\n<table border=\"1\" class=\"dataframe\">\n  <thead>\n    <tr style=\"text-align: right;\">\n      <th></th>\n      <th>0</th>\n      <th>1</th>\n      <th>2</th>\n      <th>3</th>\n      <th>4</th>\n      <th>5</th>\n    </tr>\n  </thead>\n  <tbody>\n    <tr>\n      <th>0</th>\n      <td>0.000989</td>\n      <td>NaN</td>\n      <td>NaN</td>\n      <td>NaN</td>\n      <td>NaN</td>\n      <td>NaN</td>\n    </tr>\n    <tr>\n      <th>1</th>\n      <td>0.000492</td>\n      <td>0.083725</td>\n      <td>NaN</td>\n      <td>NaN</td>\n      <td>NaN</td>\n      <td>NaN</td>\n    </tr>\n    <tr>\n      <th>2</th>\n      <td>0.006830</td>\n      <td>0.006415</td>\n      <td>0.040246</td>\n      <td>NaN</td>\n      <td>NaN</td>\n      <td>NaN</td>\n    </tr>\n    <tr>\n      <th>3</th>\n      <td>0.003155</td>\n      <td>0.000795</td>\n      <td>0.026597</td>\n      <td>0.060938</td>\n      <td>NaN</td>\n      <td>NaN</td>\n    </tr>\n    <tr>\n      <th>4</th>\n      <td>0.006325</td>\n      <td>0.003799</td>\n      <td>0.002702</td>\n      <td>0.010110</td>\n      <td>0.030045</td>\n      <td>NaN</td>\n    </tr>\n    <tr>\n      <th>5</th>\n      <td>0.001697</td>\n      <td>0.005914</td>\n      <td>0.004519</td>\n      <td>0.004735</td>\n      <td>0.018651</td>\n      <td>0.0347</td>\n    </tr>\n  </tbody>\n</table>\n</div>"
     },
     "execution_count": 19,
     "metadata": {},
     "output_type": "execute_result"
    }
   ],
   "source": [
    "from optimize import safety_penalty_list\n",
    "\n",
    "safety = []\n",
    "for res in result:\n",
    "    safety.append(safety_penalty_list(res.variables))\n",
    "pd.DataFrame(safety)"
   ],
   "metadata": {
    "collapsed": false,
    "pycharm": {
     "name": "#%%\n"
    }
   }
  },
  {
   "cell_type": "code",
   "execution_count": 20,
   "outputs": [],
   "source": [
    "\n",
    "for i in range(len(result)):\n",
    "    pd.DataFrame(result[i].variables).to_csv(f\"./sa3_safety/k={i + 2}.csv\")"
   ],
   "metadata": {
    "collapsed": false,
    "pycharm": {
     "name": "#%%\n"
    }
   }
  }
 ],
 "metadata": {
  "kernelspec": {
   "display_name": "Python 3",
   "language": "python",
   "name": "python3"
  },
  "language_info": {
   "codemirror_mode": {
    "name": "ipython",
    "version": 2
   },
   "file_extension": ".py",
   "mimetype": "text/x-python",
   "name": "python",
   "nbconvert_exporter": "python",
   "pygments_lexer": "ipython2",
   "version": "2.7.6"
  }
 },
 "nbformat": 4,
 "nbformat_minor": 0
}