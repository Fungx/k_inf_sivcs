{
 "cells": [
  {
   "cell_type": "code",
   "execution_count": 86,
   "metadata": {
    "collapsed": true,
    "pycharm": {
     "name": "#%%\n"
    }
   },
   "outputs": [
    {
     "data": {
      "text/plain": "<matplotlib.image.AxesImage at 0x1ca7db39ca0>"
     },
     "execution_count": 86,
     "metadata": {},
     "output_type": "execute_result"
    },
    {
     "data": {
      "text/plain": "<Figure size 432x288 with 1 Axes>",
      "image/png": "[encoded data removed]"
     },
     "metadata": {
      "needs_background": "light"
     },
     "output_type": "display_data"
    }
   ],
   "source": [
    "import numpy as np\n",
    "\n",
    "from PIL import Image\n",
    "from matplotlib import pyplot as plt\n",
    "import optimize\n",
    "import pandas as pd\n",
    "\n",
    "secret = np.logical_not(np.array(Image.open(\"../A_256.png\").convert(\"1\"), dtype=bool))\n",
    "plt.imshow(secret, cmap=\"gray_r\")\n"
   ]
  },
  {
   "cell_type": "markdown",
   "source": [],
   "metadata": {
    "collapsed": false,
    "pycharm": {
     "name": "#%% md\n"
    }
   }
  },
  {
   "cell_type": "code",
   "execution_count": 87,
   "outputs": [
    {
     "name": "stdout",
     "output_type": "stream",
     "text": [
      "k=2 Done.\n",
      "k=3 Done.\n",
      "k=4 Done.\n",
      "k=5 Done.\n",
      "k=6 Done.\n",
      "k=7 Done.\n"
     ]
    }
   ],
   "source": [
    "K = 7\n",
    "# TIMES = 5\n",
    "ks = [i for i in range(2, K + 1)]\n",
    "result = []\n",
    "ws=50\n",
    "init_temp=2000\n",
    "markov=80000\n",
    "for i in ks:\n",
    "    result.append(\n",
    "        optimize.optimize_sa2(i,initial_temp=init_temp,markov=markov*i,  ws=ws))\n",
    "    print(f\"k={i} Done.\")\n"
   ],
   "metadata": {
    "collapsed": false,
    "pycharm": {
     "name": "#%%\n"
    }
   }
  },
  {
   "cell_type": "code",
   "execution_count": 88,
   "outputs": [
    {
     "name": "stdout",
     "output_type": "stream",
     "text": [
      "[0.2528307384060406, 0.04744987438811113, 0.11145633756971662, 0.12912805515805648, 0.09850764861431288, 0.053380522851408485]\n"
     ]
    },
    {
     "data": {
      "text/plain": "<Figure size 432x288 with 1 Axes>",
      "image/png": "[encoded data removed]"
     },
     "metadata": {
      "needs_background": "light"
     },
     "output_type": "display_data"
    }
   ],
   "source": [
    "plt.xlabel(\"k\")\n",
    "plt.plot(ks, list(map(lambda x: x.contrast, result)), label=\"contrast\", color=\"green\")\n",
    "plt.legend()\n",
    "print(list(map(lambda x: x.contrast, result)))"
   ],
   "metadata": {
    "collapsed": false,
    "pycharm": {
     "name": "#%%\n"
    }
   }
  },
  {
   "cell_type": "code",
   "execution_count": 89,
   "outputs": [],
   "source": [
    "from optimize import safety_penalty_list\n",
    "import os\n",
    "path=f\"./sa2_safety_ws={ws}_inittemp={init_temp}_markov={markov}\"\n",
    "if not os.path.exists(path):\n",
    "    os.mkdir(path)\n",
    "\n",
    "safety = []\n",
    "for res in result:\n",
    "    safety.append(safety_penalty_list(res.variables))\n",
    "pd.DataFrame(safety).to_csv(f\"{path}/ws.csv\")"
   ],
   "metadata": {
    "collapsed": false,
    "pycharm": {
     "name": "#%%\n"
    }
   }
  },
  {
   "cell_type": "code",
   "execution_count": 90,
   "outputs": [],
   "source": [
    "\n",
    "for i in range(len(result)):\n",
    "    pd.DataFrame(result[i].variables).to_csv(f\"{path}/k={i + 2}.csv\")"
   ],
   "metadata": {
    "collapsed": false,
    "pycharm": {
     "name": "#%%\n"
    }
   }
  }
 ],
 "metadata": {
  "kernelspec": {
   "display_name": "Python 3",
   "language": "python",
   "name": "python3"
  },
  "language_info": {
   "codemirror_mode": {
    "name": "ipython",
    "version": 2
   },
   "file_extension": ".py",
   "mimetype": "text/x-python",
   "name": "python",
   "nbconvert_exporter": "python",
   "pygments_lexer": "ipython2",
   "version": "2.7.6"
  }
 },
 "nbformat": 4,
 "nbformat_minor": 0
}