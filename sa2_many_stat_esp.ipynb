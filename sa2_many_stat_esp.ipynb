{
 "cells": [
  {
   "cell_type": "code",
   "execution_count": null,
   "metadata": {
    "collapsed": true,
    "pycharm": {
     "name": "#%%\n",
     "is_executing": true
    }
   },
   "outputs": [
    {
     "name": "stdout",
     "output_type": "stream",
     "text": [
      "k=2,best_time=26,best_res={'success': True, 'contrast': 0.2510834516030716, 'nitr': 2000000, 'variables': array([[5.29259726e-01, 4.70740274e-01, 0.00000000e+00],\n",
      "       [0.00000000e+00, 3.51940699e-14, 1.00000000e+00],\n",
      "       [1.00000000e+00, 0.00000000e+00, 5.27424188e-01]])}\n",
      "safety=[1.4658825364211117e-06]\n"
     ]
    }
   ],
   "source": [
    "import numpy as np\n",
    "import pandas\n",
    "\n",
    "from PIL import Image\n",
    "from matplotlib import pyplot as plt\n",
    "from optimize import OptimizedResult, optimize_sa2, safety_penalty_list\n",
    "import pandas as pd\n",
    "import os\n",
    "\n",
    "TIMES = 1\n",
    "markov = 50000\n",
    "ws = 50\n",
    "dir = f\"sa2_many_mk={markov}_ws={ws}_espr=0.25_espp=0.25\"\n",
    "os.mkdir(dir)\n",
    "\n",
    "for k in range(2, 8):\n",
    "    best_contrast = 0\n",
    "    best_time = -1\n",
    "    path = f\"{dir}/k={k}\"\n",
    "    os.mkdir(path)\n",
    "    for time in range(TIMES):\n",
    "        res = optimize_sa2(k, markov=markov * k, ws=ws, initial_temp=0.1, terminated_temp=0.1 / 2000,esp_p=0.25,esp_r=0.25)\n",
    "        if res.contrast > best_contrast:\n",
    "            best_contrast = res.contrast\n",
    "            best_res = res\n",
    "            best_time = time\n",
    "        pandas.DataFrame(res.variables).to_csv(f\"{path}/{time}-vars.csv\")\n",
    "        sf = safety_penalty_list(res.variables)\n",
    "        pandas.DataFrame(sf).to_csv(f\"{path}/{time}-safety.csv\")\n",
    "    print(f\"k={k},best_time={best_time},best_res={best_res}\\nsafety={sf}\")\n"
   ]
  },
  {
   "cell_type": "code",
   "execution_count": null,
   "outputs": [],
   "source": [],
   "metadata": {
    "collapsed": false,
    "pycharm": {
     "name": "#%%\n",
     "is_executing": true
    }
   }
  }
 ],
 "metadata": {
  "kernelspec": {
   "display_name": "Python 3",
   "language": "python",
   "name": "python3"
  },
  "language_info": {
   "codemirror_mode": {
    "name": "ipython",
    "version": 2
   },
   "file_extension": ".py",
   "mimetype": "text/x-python",
   "name": "python",
   "nbconvert_exporter": "python",
   "pygments_lexer": "ipython2",
   "version": "2.7.6"
  }
 },
 "nbformat": 4,
 "nbformat_minor": 0
}